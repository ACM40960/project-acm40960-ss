{
 "cells": [
  {
   "cell_type": "code",
   "execution_count": null,
   "id": "2d158804",
   "metadata": {},
   "outputs": [],
   "source": [
    "# Load libraries\n",
    "\n",
    "import pandas as pd\n",
    "from pathlib import Path"
   ]
  },
  {
   "cell_type": "code",
   "execution_count": null,
   "id": "a870d769",
   "metadata": {},
   "outputs": [],
   "source": [
    "BASE_DIR = Path().resolve().parent\n",
    "\n",
    "# Load global temperature\n",
    "temp_path = BASE_DIR / \"data\" / \"raw\" / \"Global_TAVG_annual.txt\"\n",
    "\n",
    "BASELINE_TEMP_C = 14.13"
   ]
  },
  {
   "cell_type": "code",
   "execution_count": null,
   "id": "211a306e",
   "metadata": {},
   "outputs": [],
   "source": [
    "df_temp = pd.read_csv(\n",
    "    temp_path,\n",
    "    delim_whitespace=True,\n",
    "    comment=\"%\",\n",
    "    header=None,\n",
    "    names=[\"year\", \"anomaly_c\", \"uncertainty_c\", \"five_year_avg\", \"five_year_unc\"]\n",
    ")"
   ]
  },
  {
   "cell_type": "code",
   "execution_count": null,
   "id": "49d99b14",
   "metadata": {},
   "outputs": [],
   "source": [
    "# Calculate absolute temperature\n",
    "########################\n",
    "\n",
    "# \"Absolute temp = Anomaly + 1951–1980 mean (14.13°C)\"\n",
    "########################\n",
    "\n",
    "df_temp[\"global_temp_c\"] = df_temp[\"anomaly_c\"] + BASELINE_TEMP_C"
   ]
  },
  {
   "cell_type": "code",
   "execution_count": null,
   "id": "6f6ca9d9",
   "metadata": {},
   "outputs": [],
   "source": [
    "# Keep only necessary columns\n",
    "df_temp = df_temp[[\"year\", \"anomaly_c\", \"global_temp_c\"]]\n",
    "\n",
    "# Save the final dataset\n",
    "output_path = BASE_DIR / \"data\" / \"processed\" / \"global_temp_data.csv\"\n",
    "df_temp.to_csv(output_path, index=False)"
   ]
  },
  {
   "cell_type": "code",
   "execution_count": null,
   "id": "6c011049",
   "metadata": {},
   "outputs": [],
   "source": [
    "print(\"Global Temperature dataset shape:\", df_temp.shape)\n",
    "print(df_temp[[\"year\", \"global_temp_c\"]].drop_duplicates().head())"
   ]
  },
  {
   "cell_type": "code",
   "execution_count": null,
   "id": "06a611ee",
   "metadata": {},
   "outputs": [],
   "source": [
    "'''\n",
    "# Load EI final dataset (already processed)\n",
    "ei_path = BASE_DIR / \"data\" / \"processed\" / \"ei_energy_supply_owid_units.csv\"\n",
    "df_ei = pd.read_csv(ei_path)\n",
    "\n",
    "# Merge temperature with EI data (retain all EI rows)\n",
    "df_merged = pd.merge(df_ei, df_temp, on=\"year\", how=\"left\")\n",
    "\n",
    "# Save the final dataset\n",
    "output_path = BASE_DIR / \"data\" / \"processed\" / \"ei_energy_emissions_with_global_temp.csv\"\n",
    "df_merged.to_csv(output_path, index=False)\n",
    "\n",
    "print(\"Merged dataset shape:\", df_merged.shape)\n",
    "print(df_merged[[\"country\", \"year\", \"global_temp_c\"]].drop_duplicates().head())\n",
    "'''"
   ]
  },
  {
   "cell_type": "code",
   "execution_count": null,
   "id": "9043d65b",
   "metadata": {},
   "outputs": [],
   "source": []
  },
  {
   "cell_type": "code",
   "execution_count": null,
   "id": "e991eb0f",
   "metadata": {},
   "outputs": [],
   "source": []
  },
  {
   "cell_type": "code",
   "execution_count": null,
   "id": "7329be8b",
   "metadata": {},
   "outputs": [],
   "source": []
  }
 ],
 "metadata": {
  "kernelspec": {
   "display_name": "Python 3",
   "language": "python",
   "name": "python3"
  },
  "language_info": {
   "name": "python",
   "version": "3.10.0"
  }
 },
 "nbformat": 4,
 "nbformat_minor": 5
}
