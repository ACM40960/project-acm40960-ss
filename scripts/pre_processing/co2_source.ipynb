{
 "cells": [
  {
   "cell_type": "markdown",
   "id": "5f3168f5",
   "metadata": {},
   "source": [
    "# Carbon-dioxide Emissions Data Processing\n",
    "\n",
    "We integrated **fossil**, **land-use**, and **consumption-based** CO2 emissions into one harmonized dataset."
   ]
  },
  {
   "cell_type": "code",
   "execution_count": 1,
   "id": "3460b367",
   "metadata": {},
   "outputs": [],
   "source": [
    "import pandas as pd\n",
    "from pathlib import Path"
   ]
  },
  {
   "cell_type": "code",
   "execution_count": 2,
   "id": "8acc9e70",
   "metadata": {},
   "outputs": [],
   "source": [
    "BASE_DIR = Path().resolve().parents[1]\n",
    "\n",
    "fossil_raw_file_path = BASE_DIR / \"data\" / \"raw\" / \"Fossil CO2 emissions.csv\"\n",
    "source_path  = BASE_DIR / \"data\" / \"raw\" / \"National_Fossil_Carbon_Emissions_2024v1.0.xlsx\"\n",
    "landuse_file_path  = BASE_DIR / \"data\" / \"raw\" / \"National_LandUseChange_Carbon_Emissions_2024v1.0.xlsx\"\n",
    "\n",
    "OUTPUT_PATH = BASE_DIR / \"data\" / \"pre_processed\" / \"Final_CO2_Emissions_Dataset.csv\""
   ]
  },
  {
   "cell_type": "markdown",
   "id": "b62dbcca",
   "metadata": {},
   "source": [
    "### 1. Fossil CO2 (Cement, Coal, Oil, Gas, Flaring, Other)\n",
    "- Source: `Fossil CO2 emissions.csv`\n",
    "- Cleaned country names (harmonized with ISO / OWID style).  \n",
    "- Fixed anomalies (e.g., `PALAU` historical split with \"Pacific Islands\").  \n",
    "- Standardized columns → `co2`, `coal_co2`, `oil_co2`, `gas_co2`, `cement_co2`, `flaring_co2`, `other_industry_co2`."
   ]
  },
  {
   "cell_type": "code",
   "execution_count": 3,
   "id": "af63e3be",
   "metadata": {},
   "outputs": [],
   "source": [
    "# Load raw fossil CO2 dataset\n",
    "df_fossil_raw = pd.read_csv(fossil_raw_file_path)\n",
    "\n",
    "# Define renaming dictionary for harmonizing country names\n",
    "rename_dict = {\n",
    "    \"TÜRKIYE\": \"TURKEY\",\n",
    "    \"CÔTE D'IVOIRE\": \"COTE D'IVOIRE\",\n",
    "    \"BONAIRE, SAINT EUSTATIUS AND SABA\": \"BONAIRE SINT EUSTATIUS AND SABA\",\n",
    "    \"BRUNEI DARUSSALAM\": \"BRUNEI\",\n",
    "    \"CURAÇAO\": \"CURACAO\",\n",
    "    \"DEMOCRATIC REPUBLIC OF THE CONGO\": \"DEMOCRATIC REPUBLIC OF CONGO\",\n",
    "    \"FAEROE ISLANDS\": \"FAROE ISLANDS\",\n",
    "    \"GLOBAL\": \"WORLD\",\n",
    "    \"MICRONESIA (FEDERATED STATES OF)\": \"MICRONESIA (COUNTRY)\",\n",
    "    \"STATE OF PALESTINE\": \"PALESTINE\",\n",
    "    \"TIMOR-LESTE\": \"EAST TIMOR\",\n",
    "    \"USA\": \"UNITED STATES\",\n",
    "    \"VIET NAM\": \"VIETNAM\",\n",
    "    \"WALLIS AND FUTUNA ISLANDS\": \"WALLIS AND FUTUNA\",\n",
    "    \"KUWAITI OIL FIRES\": \"KUWAITI OIL FIRES\"\n",
    "}\n",
    "\n",
    "# Clean and rename relevant columns\n",
    "df_fossil_cleaned = pd.DataFrame({\n",
    "    \"Country\": df_fossil_raw[\"Country\"].str.upper().replace(rename_dict),\n",
    "    \"Country_Abbreviation\": df_fossil_raw[\"ISO 3166-1 alpha-3\"],\n",
    "    \"Year\": df_fossil_raw[\"Year\"],\n",
    "    \"Total\": df_fossil_raw[\"Total\"],\n",
    "    \"Coal\": df_fossil_raw[\"Coal\"],\n",
    "    \"Oil\": df_fossil_raw[\"Oil\"],\n",
    "    \"Gas\": df_fossil_raw[\"Gas\"],\n",
    "    \"Cement\": df_fossil_raw[\"Cement\"],\n",
    "    \"Flaring\": df_fossil_raw[\"Flaring\"],\n",
    "    \"Other\": df_fossil_raw[\"Other\"]\n",
    "})\n",
    "\n",
    "# Normalize whitespace and trim country names\n",
    "df_fossil_cleaned[\"Country\"] = (\n",
    "    df_fossil_cleaned[\"Country\"]\n",
    "    .astype(str)\n",
    "    .str.replace(r'\\s+', ' ', regex=True)\n",
    "    .str.strip()\n",
    ")"
   ]
  },
  {
   "cell_type": "code",
   "execution_count": 4,
   "id": "b7336004",
   "metadata": {},
   "outputs": [],
   "source": [
    "# Special handling for 'PALAU' historical anomaly\n",
    "mask_palau_pre1992 = (\n",
    "    (df_fossil_cleaned[\"Country\"] == \"PACIFIC ISLANDS (PALAU)\") & \n",
    "    (df_fossil_cleaned[\"Year\"] < 1992)\n",
    ")\n",
    "mask_palau_post1992 = (\n",
    "    (df_fossil_cleaned[\"Country\"] == \"PALAU\") & \n",
    "    (df_fossil_cleaned[\"Year\"] >= 1992)\n",
    ")\n",
    "\n",
    "df_fossil_palau_fixed = df_fossil_cleaned[mask_palau_pre1992 | mask_palau_post1992].copy()\n",
    "df_fossil_palau_fixed[\"Country\"] = \"PALAU\"\n",
    "\n",
    "# Remove duplicate/conflicting 'PALAU' entries from main dataset\n",
    "df_fossil_remaining = df_fossil_cleaned[\n",
    "    ~(\n",
    "        (df_fossil_cleaned[\"Country\"] == \"PACIFIC ISLANDS (PALAU)\") |\n",
    "        ((df_fossil_cleaned[\"Country\"] == \"PALAU\") & (df_fossil_cleaned[\"Year\"] < 1992))\n",
    "    )\n",
    "]"
   ]
  },
  {
   "cell_type": "code",
   "execution_count": 5,
   "id": "220979a7",
   "metadata": {},
   "outputs": [],
   "source": [
    "# Merge cleaned 'PALAU' entries back\n",
    "df_fossil_final = pd.concat(\n",
    "    [df_fossil_remaining, df_fossil_palau_fixed],\n",
    "    ignore_index=True\n",
    ")\n",
    "\n",
    "# Sort and round numeric values\n",
    "df_fossil_final = df_fossil_final.sort_values(by=[\"Country\", \"Year\"]).reset_index(drop=True)\n",
    "df_fossil_final = df_fossil_final.round(3)\n",
    "\n",
    "# df_fossil_final now holds the fully cleaned fossil CO2 data"
   ]
  },
  {
   "cell_type": "markdown",
   "id": "fcf5ae1b",
   "metadata": {},
   "source": [
    "### 2. Consumption & Trade Emissions\n",
    "- Source: *National Fossil Carbon Emissions 2024*.  \n",
    "- Sheets: **Consumption Emissions**, **Emissions Transfers**.  \n",
    "- Melted wide: long format.  \n",
    "- Converted units from C: CO2 (`× 3.664`).  \n",
    "- Cleaned aggregate regions (OECD, EU27, Non-OECD, etc.).  \n",
    "- Output: `consumption_co2`, `trade_co2`."
   ]
  },
  {
   "cell_type": "code",
   "execution_count": 6,
   "id": "9333c822",
   "metadata": {},
   "outputs": [],
   "source": [
    "# Rename dictionary for harmonizing country names\n",
    "rename_dict = {\n",
    "    \"TÜRKIYE\": \"TURKEY\",\n",
    "    \"CÔTE D'IVOIRE\": \"COTE D'IVOIRE\",\n",
    "    \"BRUNEI DARUSSALAM\": \"BRUNEI\",\n",
    "    \"DEMOCRATIC REPUBLIC OF THE CONGO\": \"DEMOCRATIC REPUBLIC OF CONGO\",\n",
    "    \"STATE OF PALESTINE\": \"PALESTINE\",\n",
    "    \"TIMOR-LESTE\": \"EAST TIMOR\",\n",
    "    \"USA\": \"UNITED STATES\",\n",
    "    \"VIET NAM\": \"VIETNAM\",\n",
    "    \"BONAIRE, SAINT EUSTATIUS AND SABA\": \"BONAIRE SINT EUSTATIUS AND SABA\",\n",
    "    \"CURAÇAO\": \"CURACAO\",\n",
    "    \"FAEROE ISLANDS\": \"FAROE ISLANDS\",\n",
    "    \"MICRONESIA (FEDERATED STATES OF)\": \"MICRONESIA (COUNTRY)\",\n",
    "    \"WALLIS AND FUTUNA ISLANDS\": \"WALLIS AND FUTUNA\",\n",
    "    \"BUNKERS\": \"INTERNATIONAL TRANSPORT\"\n",
    "}\n",
    "\n",
    "# Region/aggregate names to drop\n",
    "excluded_regions = {\n",
    "    \"AFRICA\", \"ASIA\", \"CENTRAL AMERICA\", \"EUROPE\", \"NORTH AMERICA\", \"OCEANIA\",\n",
    "    \"SOUTH AMERICA\", \"EU27\", \"KP ANNEX B\", \"MIDDLE EAST\", \"NON KP ANNEX B\",\n",
    "    \"NON-OECD\", \"OECD\", \"STATISTICAL DIFFERENCE\"\n",
    "}"
   ]
  },
  {
   "cell_type": "code",
   "execution_count": 7,
   "id": "b5c00660",
   "metadata": {},
   "outputs": [],
   "source": [
    "# Function to load and clean a sheet\n",
    "def load_and_rename_sheet(sheet_name):\n",
    "    df_raw = pd.read_excel(source_path, sheet_name=sheet_name, skiprows=6)\n",
    "    country_row = df_raw.iloc[1, 1:].astype(str).str.upper().str.strip()\n",
    "    df_raw.iloc[1, 1:] = country_row.replace(rename_dict)\n",
    "    return df_raw"
   ]
  },
  {
   "cell_type": "code",
   "execution_count": 8,
   "id": "09d0d33c",
   "metadata": {},
   "outputs": [],
   "source": [
    "# Function to process and merge consumption and trade data\n",
    "def process_consumption_and_trade(df_consumption_raw, df_trade_raw):\n",
    "    country_names = df_consumption_raw.iloc[1, 1:].astype(str).str.upper().str.strip().replace(rename_dict)\n",
    "    columns = [\"Year\"] + country_names.tolist()\n",
    "\n",
    "    df_consumption = df_consumption_raw.iloc[2:].reset_index(drop=True)\n",
    "    df_trade = df_trade_raw.iloc[2:].reset_index(drop=True)\n",
    "    df_consumption.columns = columns\n",
    "    df_trade.columns = columns\n",
    "\n",
    "    df_consumption_long = df_consumption.melt(id_vars=\"Year\", var_name=\"Country\", value_name=\"consumption_co2\")\n",
    "    df_trade_long = df_trade.melt(id_vars=\"Year\", var_name=\"Country\", value_name=\"trade_co2\")\n",
    "\n",
    "    df_merged = pd.merge(df_consumption_long, df_trade_long, on=[\"Year\", \"Country\"])\n",
    "\n",
    "    df_merged[\"consumption_co2\"] = (df_merged[\"consumption_co2\"].astype(float) * 3.664).round(3)\n",
    "    df_merged[\"trade_co2\"] = (-1 * df_merged[\"trade_co2\"].astype(float) * 3.664).round(3)\n",
    "\n",
    "    df_merged = df_merged.dropna(subset=[\"Country\", \"Year\"])\n",
    "    df_merged = df_merged[~df_merged[\"Country\"].isin(excluded_regions)]\n",
    "\n",
    "    return df_merged.sort_values(by=[\"Country\", \"Year\"]).reset_index(drop=True)\n",
    "\n",
    "# Load sheets\n",
    "df_consumption_raw = load_and_rename_sheet(\"Consumption Emissions\")\n",
    "df_trade_raw = load_and_rename_sheet(\"Emissions Transfers\")\n",
    "\n",
    "# Process data\n",
    "df_consumption_trade_final = process_consumption_and_trade(df_consumption_raw, df_trade_raw)\n",
    "\n",
    "# df_consumption_trade_final is now ready"
   ]
  },
  {
   "cell_type": "markdown",
   "id": "ab468f49",
   "metadata": {},
   "source": [
    "### 3. Land-Use Change CO2\n",
    "- Source: *National Land Use Change Carbon Emissions 2024*.  \n",
    "- Sheets: BLUE, H&C2023, OSCAR, LUCE.  \n",
    "- Extracted `GLOBAL` column from each, averaged across models.  \n",
    "- Replaced `GLOBAL` column in BLUE sheet with the mean series.  \n",
    "- Melted to long format, converted units (`× 3.664`).  \n",
    "- Output: `land_use_change_co2`."
   ]
  },
  {
   "cell_type": "code",
   "execution_count": 9,
   "id": "ff928c5f",
   "metadata": {},
   "outputs": [],
   "source": [
    "# Define file and sheet names\n",
    "landuse_sheets = [\"BLUE\", \"H&C2023\", \"OSCAR\", \"LUCE\"]\n",
    "\n",
    "# Load all sheets into a dictionary\n",
    "df_landuse_sheets = {\n",
    "    sheet: pd.read_excel(landuse_file_path, sheet_name=sheet, header=None)\n",
    "    for sheet in landuse_sheets\n",
    "}\n",
    "\n",
    "# Extract GLOBAL column from each sheet\n",
    "global_avg_dfs = []\n",
    "\n",
    "for sheet_name, df_raw in df_landuse_sheets.items():\n",
    "    header_row = df_raw.iloc[7, 1:].astype(str).str.upper().str.strip()\n",
    "    df_raw.columns = [None] + list(header_row)\n",
    "    \n",
    "    df_years = df_raw.iloc[8:, 0]\n",
    "    df_values = df_raw.iloc[8:, 1:]\n",
    "    df_values.columns = header_row\n",
    "    df_values.insert(0, \"Year\", df_years)\n",
    "\n",
    "    if \"GLOBAL\" not in df_values.columns:\n",
    "        raise ValueError(f\"'GLOBAL' column not found in sheet: {sheet_name}\")\n",
    "    \n",
    "    df_global = df_values[[\"Year\", \"GLOBAL\"]].copy()\n",
    "    df_global[\"GLOBAL\"] = pd.to_numeric(df_global[\"GLOBAL\"], errors=\"coerce\")\n",
    "    global_avg_dfs.append(df_global)"
   ]
  },
  {
   "cell_type": "code",
   "execution_count": 10,
   "id": "9115d2c4",
   "metadata": {},
   "outputs": [],
   "source": [
    "# Merge all GLOBAL columns and compute row-wise mean\n",
    "df_global_merged = global_avg_dfs[0]\n",
    "\n",
    "for df_other in global_avg_dfs[1:]:\n",
    "    df_global_merged = df_global_merged.merge(df_other, on=\"Year\", suffixes=(\"\", \"_drop\"))\n",
    "\n",
    "df_global_merged[\"GLOBAL_AVG\"] = df_global_merged.iloc[:, 1:].mean(axis=1)\n",
    "\n",
    "# Load and rename BLUE sheet headers\n",
    "df_landuse_blue_raw = df_landuse_sheets[\"BLUE\"]\n",
    "\n",
    "rename_dict = {\n",
    "    \"TÜRKIYE\": \"TURKEY\",\n",
    "    \"CÔTE D'IVOIRE\": \"COTE D'IVOIRE\",\n",
    "    \"BRUNEI DARUSSALAM\": \"BRUNEI\",\n",
    "    \"DEMOCRATIC REPUBLIC OF THE CONGO\": \"DEMOCRATIC REPUBLIC OF CONGO\",\n",
    "    \"STATE OF PALESTINE\": \"PALESTINE\",\n",
    "    \"TIMOR-LESTE\": \"EAST TIMOR\",\n",
    "    \"USA\": \"UNITED STATES\",\n",
    "    \"VIET NAM\": \"VIETNAM\"\n",
    "}"
   ]
  },
  {
   "cell_type": "code",
   "execution_count": 11,
   "id": "212f7f90",
   "metadata": {},
   "outputs": [],
   "source": [
    "header_countries = df_landuse_blue_raw.iloc[7, 1:].astype(str).str.upper().str.strip()\n",
    "header_countries = header_countries.replace(rename_dict)\n",
    "df_landuse_blue_raw.iloc[7, 1:] = header_countries\n",
    "\n",
    "# Replace only the GLOBAL column with GLOBAL_AVG\n",
    "if \"GLOBAL\" in header_countries.values:\n",
    "    global_col_index = header_countries.tolist().index(\"GLOBAL\") + 1  # Adjust for first column being year\n",
    "    df_landuse_blue_raw.iloc[8:, global_col_index] = df_global_merged[\"GLOBAL_AVG\"].values\n",
    "else:\n",
    "    raise ValueError(\"'GLOBAL' column not found in BLUE sheet after renaming.\")"
   ]
  },
  {
   "cell_type": "code",
   "execution_count": 12,
   "id": "57ef04e6",
   "metadata": {},
   "outputs": [],
   "source": [
    "# Convert BLUE sheet into long format for land-use emissions\n",
    "country_names = df_landuse_blue_raw.iloc[7, 1:].astype(str).str.strip()\n",
    "years = df_landuse_blue_raw.iloc[8:, 0]\n",
    "df_landuse_values = df_landuse_blue_raw.iloc[8:, 1:]\n",
    "df_landuse_values.columns = country_names\n",
    "df_landuse_values.insert(0, \"Year\", years)\n",
    "\n",
    "df_landuse_long_final = df_landuse_values.melt(\n",
    "    id_vars=\"Year\", var_name=\"Country\", value_name=\"land_use_change_co2\"\n",
    ").dropna()\n",
    "\n",
    "# Scale and round values\n",
    "df_landuse_long_final[\"land_use_change_co2\"] = (\n",
    "    df_landuse_long_final[\"land_use_change_co2\"].astype(float) * 3.664\n",
    ").round(3)\n",
    "\n",
    "# Sort and reset index\n",
    "df_landuse_long_final = df_landuse_long_final.sort_values([\"Country\", \"Year\"]).reset_index(drop=True)\n",
    "\n",
    "# df_landuse_long_final"
   ]
  },
  {
   "cell_type": "markdown",
   "id": "839219cc",
   "metadata": {},
   "source": [
    "### 4. Final Merge\n",
    "- Keys: `country`, `year`.  \n",
    "- Merged datasets in sequence:\n",
    "  1. Fossil + Land-Use  \n",
    "  2. Add Consumption & Trade  "
   ]
  },
  {
   "cell_type": "code",
   "execution_count": 13,
   "id": "3f58da7f",
   "metadata": {},
   "outputs": [],
   "source": [
    "# Rename and clean fossil emissions data\n",
    "df_fossil_renamed = df_fossil_final.rename(columns={\n",
    "    \"Country\": \"country\",\n",
    "    \"Year\": \"year\",\n",
    "    \"Country_Abbreviation\": \"Country_abbrievation\",\n",
    "    \"Total\": \"co2\",\n",
    "    \"Coal\": \"coal_co2\",\n",
    "    \"Oil\": \"oil_co2\",\n",
    "    \"Gas\": \"gas_co2\",\n",
    "    \"Cement\": \"cement_co2\",\n",
    "    \"Flaring\": \"flaring_co2\",\n",
    "    \"Other\": \"other_industry_co2\"\n",
    "})\n",
    "\n",
    "df_fossil_selected = df_fossil_renamed[[\n",
    "    \"country\", \"year\", \"Country_abbrievation\", \"co2\", \"cement_co2\",\n",
    "    \"coal_co2\", \"flaring_co2\", \"gas_co2\", \"oil_co2\", \"other_industry_co2\"\n",
    "]]"
   ]
  },
  {
   "cell_type": "code",
   "execution_count": 14,
   "id": "e832818e",
   "metadata": {},
   "outputs": [
    {
     "name": "stdout",
     "output_type": "stream",
     "text": [
      "Final dataset exported as 'Final_CO2_Emissions_Dataset.csv'\n"
     ]
    }
   ],
   "source": [
    "# Prepare land-use data\n",
    "df_landuse_cleaned = df_landuse_long_final.rename(columns={\"Country\": \"country\", \"Year\": \"year\"})\n",
    "df_landuse_cleaned[\"country\"] = df_landuse_cleaned[\"country\"].replace(\"GLOBAL\", \"WORLD\")\n",
    "df_landuse_selected = df_landuse_cleaned[[\"country\", \"year\", \"land_use_change_co2\"]]\n",
    "\n",
    "# Prepare consumption + trade emissions data\n",
    "df_consumption_trade_cleaned = df_consumption_trade_final.rename(columns={\"Country\": \"country\", \"Year\": \"year\"})\n",
    "df_consumption_trade_selected = df_consumption_trade_cleaned[[\"country\", \"year\", \"consumption_co2\", \"trade_co2\"]]\n",
    "\n",
    "# Merge all three datasets\n",
    "df_emissions_merged = pd.merge(df_fossil_selected, df_landuse_selected, on=[\"country\", \"year\"], how=\"outer\")\n",
    "df_emissions_final = pd.merge(df_emissions_merged, df_consumption_trade_selected, on=[\"country\", \"year\"], how=\"outer\")\n",
    "\n",
    "# Export the final dataframe to CSV\n",
    "df_emissions_final.to_csv(OUTPUT_PATH, index=False)\n",
    "print(\"Final dataset exported as 'Final_CO2_Emissions_Dataset.csv'\")"
   ]
  }
 ],
 "metadata": {
  "kernelspec": {
   "display_name": "Python 3",
   "language": "python",
   "name": "python3"
  },
  "language_info": {
   "codemirror_mode": {
    "name": "ipython",
    "version": 3
   },
   "file_extension": ".py",
   "mimetype": "text/x-python",
   "name": "python",
   "nbconvert_exporter": "python",
   "pygments_lexer": "ipython3",
   "version": "3.10.0"
  }
 },
 "nbformat": 4,
 "nbformat_minor": 5
}
