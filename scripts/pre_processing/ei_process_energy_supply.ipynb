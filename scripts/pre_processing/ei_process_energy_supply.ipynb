{
 "cells": [
  {
   "cell_type": "code",
   "execution_count": 1,
   "id": "9ae17dee",
   "metadata": {},
   "outputs": [],
   "source": [
    "# Import the libraries\n",
    "import pandas as pd\n",
    "from pathlib import Path"
   ]
  },
  {
   "cell_type": "code",
   "execution_count": 2,
   "id": "4c497c13",
   "metadata": {},
   "outputs": [],
   "source": [
    "# File Paths\n",
    "BASE_DIR = Path().resolve().parents[1]\n",
    "\n",
    "EI_FILE   = BASE_DIR / \"data\" / \"raw\" / \"EI-Stats-Review-ALL-data.xlsx\"\n",
    "POP_FILE  = BASE_DIR / \"data\" / \"raw\" / \"population-long-run-with-projections.csv\"\n",
    "GDP_FILE  = BASE_DIR / \"data\" / \"raw\" / \"mpd2023_web.xlsx\"\n",
    "\n",
    "OUTPUT_PATH = BASE_DIR / \"data\" / \"processed\" / \"ei_energy_supply.csv\""
   ]
  },
  {
   "cell_type": "code",
   "execution_count": 3,
   "id": "49e7d781",
   "metadata": {},
   "outputs": [],
   "source": [
    "# Load Primary Energy Consumption (EJ)\n",
    "\n",
    "df_energy = pd.read_excel(EI_FILE, sheet_name=\"Primary Energy Cons (old meth)\", skiprows=2)\n",
    "df_energy.columns.values[0] = \"country\"\n",
    "df_energy = df_energy.dropna(subset=[\"country\"])\n",
    "df_energy = df_energy.melt(id_vars=[\"country\"], var_name=\"year\", value_name=\"primary_energy_consumption_ej\")\n",
    "df_energy[\"year\"] = df_energy[\"year\"].astype(str).str.extract(r\"(\\d{4})\").astype(int)\n"
   ]
  },
  {
   "cell_type": "code",
   "execution_count": 4,
   "id": "03a46418",
   "metadata": {},
   "outputs": [],
   "source": [
    "# Load Population\n",
    "\n",
    "df_pop = pd.read_csv(POP_FILE)\n",
    "df_pop = df_pop.rename(columns={\"Entity\": \"country\", \"Year\": \"year\", \"Population (historical)\": \"population\"})\n",
    "df_pop = df_pop[[\"country\", \"year\", \"population\"]]"
   ]
  },
  {
   "cell_type": "code",
   "execution_count": 5,
   "id": "380a260f",
   "metadata": {},
   "outputs": [],
   "source": [
    "# Load GDP per capita (in 2011 USD)\n",
    "\n",
    "df_gdp = pd.read_excel(GDP_FILE, sheet_name=\"Full data\")\n",
    "df_gdp = df_gdp[df_gdp[\"year\"] >= 1960]\n",
    "df_gdp = df_gdp.rename(columns={\"country\": \"country\", \"gdppc\": \"gdp_per_capita_2011usd\"})\n",
    "df_gdp = df_gdp[[\"country\", \"year\", \"gdp_per_capita_2011usd\"]]"
   ]
  },
  {
   "cell_type": "code",
   "execution_count": 6,
   "id": "73e5ebfc",
   "metadata": {},
   "outputs": [],
   "source": [
    "# Merge all data\n",
    "\n",
    "df = pd.merge(df_energy, df_pop, on=[\"country\", \"year\"], how=\"inner\")\n",
    "df = pd.merge(df, df_gdp, on=[\"country\", \"year\"], how=\"inner\")\n"
   ]
  },
  {
   "cell_type": "code",
   "execution_count": 7,
   "id": "9eaf701c",
   "metadata": {},
   "outputs": [],
   "source": [
    "# Convert and Derive Indicators\n",
    "\n",
    "EJ_TO_KWH = 2.77777777778e11  # 1 EJ = 2.78 × 10^11 kWh\n",
    "KWH_TO_TWH = 1e-9"
   ]
  },
  {
   "cell_type": "code",
   "execution_count": 8,
   "id": "2adaea8a",
   "metadata": {},
   "outputs": [],
   "source": [
    "# Total energy consumption in TWh\n",
    "\n",
    "df[\"primary_energy_consumption_kwh\"] = df[\"primary_energy_consumption_ej\"] * EJ_TO_KWH\n",
    "df[\"primary_energy_consumption_twh\"] = df[\"primary_energy_consumption_kwh\"] * KWH_TO_TWH\n"
   ]
  },
  {
   "cell_type": "code",
   "execution_count": 9,
   "id": "2b96eefd",
   "metadata": {},
   "outputs": [],
   "source": [
    "# Derive population and GDP-based metrics\n",
    "\n",
    "df[\"energy_per_capita_kwh\"] = df[\"primary_energy_consumption_kwh\"] / df[\"population\"]\n",
    "df[\"gdp\"] = df[\"gdp_per_capita_2011usd\"] * df[\"population\"]\n",
    "df[\"energy_per_gdp_kwh\"] = df[\"primary_energy_consumption_kwh\"] / df[\"gdp\"]"
   ]
  },
  {
   "cell_type": "code",
   "execution_count": 10,
   "id": "edcda363",
   "metadata": {},
   "outputs": [],
   "source": [
    "# Final selection\n",
    "\n",
    "df = df[[\n",
    "    \"country\", \"year\",\n",
    "    \"primary_energy_consumption_twh\",\n",
    "    \"energy_per_capita_kwh\",\n",
    "    \"energy_per_gdp_kwh\"\n",
    "]]"
   ]
  },
  {
   "cell_type": "code",
   "execution_count": 11,
   "id": "d50fd13b",
   "metadata": {},
   "outputs": [
    {
     "name": "stdout",
     "output_type": "stream",
     "text": [
      "Saved: D:\\Desktopped\\UCD\\Summer\\Summer project\\Project_ACM\\data\\processed\\ei_energy_supply.csv\n"
     ]
    }
   ],
   "source": [
    "# Save\n",
    "\n",
    "df.to_csv(OUTPUT_PATH, index=False)\n",
    "print(f\"Saved: {OUTPUT_PATH}\")"
   ]
  }
 ],
 "metadata": {
  "kernelspec": {
   "display_name": "Python 3",
   "language": "python",
   "name": "python3"
  },
  "language_info": {
   "codemirror_mode": {
    "name": "ipython",
    "version": 3
   },
   "file_extension": ".py",
   "mimetype": "text/x-python",
   "name": "python",
   "nbconvert_exporter": "python",
   "pygments_lexer": "ipython3",
   "version": "3.10.0"
  }
 },
 "nbformat": 4,
 "nbformat_minor": 5
}
