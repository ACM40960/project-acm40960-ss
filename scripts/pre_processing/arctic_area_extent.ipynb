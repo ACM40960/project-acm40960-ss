{
 "cells": [
  {
   "cell_type": "code",
   "execution_count": 1,
   "id": "d4665848",
   "metadata": {},
   "outputs": [],
   "source": [
    "import xarray as xr\n",
    "import numpy as np\n",
    "import pandas as pd\n",
    "from pathlib import Path"
   ]
  },
  {
   "cell_type": "code",
   "execution_count": 2,
   "id": "bf450618",
   "metadata": {},
   "outputs": [
    {
     "name": "stdout",
     "output_type": "stream",
     "text": [
      "<xarray.Dataset> Size: 726kB\n",
      "Dimensions:  (time: 16493)\n",
      "Coordinates:\n",
      "  * time     (time) object 132kB 1978-10-25 00:00:00 ... 2023-12-31 00:00:00\n",
      "Data variables:\n",
      "    CDR_SIA  (time) float32 66kB ...\n",
      "    BT_SIA   (time) float32 66kB ...\n",
      "    NT_SIA   (time) float32 66kB ...\n",
      "    CDR_SIE  (time) float64 132kB ...\n",
      "    BT_SIE   (time) float64 132kB ...\n",
      "    NT_SIE   (time) float64 132kB ...\n",
      "Attributes:\n",
      "    Description:  Arctic sea ice area (SIA) and sea ice extent (SIE) from the...\n",
      "    Units:        million square km\n",
      "    Timestamp:    22:24 UTC Wed 2024-05-22\n",
      "    Data source:  NOAA/NSIDC Climate Data Record of Passive Microwave Sea Ice...\n"
     ]
    }
   ],
   "source": [
    "# File Path\n",
    "BASE_DIR = Path().resolve().parents[1]\n",
    "\n",
    "# Load Arctic gridded temperature NetCDF file\n",
    "arctic_path = BASE_DIR / \"data\" / \"raw\" / \"NSIDC_CDR_daily_v4_SIA_SIE_197901_202312_no_leap.nc\"\n",
    "ds = xr.open_dataset(arctic_path, decode_times= True)\n",
    "print(ds)"
   ]
  },
  {
   "cell_type": "code",
   "execution_count": 4,
   "id": "78673762",
   "metadata": {},
   "outputs": [
    {
     "name": "stdout",
     "output_type": "stream",
     "text": [
      "Monthly data saved to: D:\\Msc Data and Computational Science\\Summer\\Projects in Maths Modelling\\Github\\project-acm40960-ss\\data\\pre_processed\\arctic_sia_sie_monthly.csv\n",
      "   year  month  sia_million_km2  sie_million_km2\n",
      "0  1978     10         9.524144        10.153839\n",
      "1  1978     11        10.811478        11.506771\n",
      "2  1978     12        12.834232        13.668629\n",
      "3  1979      1        14.615531        15.543609\n",
      "4  1979      2        15.492461        16.448393\n"
     ]
    }
   ],
   "source": [
    "# File path\n",
    "BASE_DIR = Path().resolve().parents[1]\n",
    "arctic_path = BASE_DIR / \"data\" / \"raw\" / \"NSIDC_CDR_daily_v4_SIA_SIE_197901_202312_no_leap.nc\"\n",
    "\n",
    "# Load dataset\n",
    "ds = xr.open_dataset(arctic_path, decode_times=True)\n",
    "\n",
    "# Convert CFTime to pandas datetime\n",
    "time_values = pd.to_datetime(ds[\"time\"].values.astype(\"datetime64[ns]\"))\n",
    "\n",
    "# Extract variables\n",
    "sia = ds[\"CDR_SIA\"].values  # million km²\n",
    "sie = ds[\"CDR_SIE\"].values  # million km²\n",
    "\n",
    "# Create DataFrame\n",
    "df_sia_sie = pd.DataFrame({\n",
    "    \"date\": time_values,\n",
    "    \"sia_million_km2\": sia,\n",
    "    \"sie_million_km2\": sie\n",
    "})\n",
    "\n",
    "# Drop missing values\n",
    "df_sia_sie = df_sia_sie.dropna(subset=[\"sia_million_km2\", \"sie_million_km2\"])\n",
    "\n",
    "# Add year and month\n",
    "df_sia_sie[\"year\"] = df_sia_sie[\"date\"].dt.year\n",
    "df_sia_sie[\"month\"] = df_sia_sie[\"date\"].dt.month\n",
    "\n",
    "\n",
    "# Save monthly mean dataset\n",
    "monthly_sia_sie = df_sia_sie.groupby([\"year\", \"month\"], as_index=False)[\n",
    "    [\"sia_million_km2\", \"sie_million_km2\"]\n",
    "].mean()\n",
    "\n",
    "monthly_out_path = BASE_DIR / \"data\" / \"pre_processed\" / \"arctic_sia_sie_monthly.csv\"\n",
    "monthly_sia_sie.to_csv(monthly_out_path, index=False)\n",
    "\n",
    "print(\"Monthly data saved to:\", monthly_out_path)\n",
    "print(monthly_sia_sie.head())"
   ]
  }
 ],
 "metadata": {
  "kernelspec": {
   "display_name": "Python 3",
   "language": "python",
   "name": "python3"
  },
  "language_info": {
   "codemirror_mode": {
    "name": "ipython",
    "version": 3
   },
   "file_extension": ".py",
   "mimetype": "text/x-python",
   "name": "python",
   "nbconvert_exporter": "python",
   "pygments_lexer": "ipython3",
   "version": "3.10.0"
  }
 },
 "nbformat": 4,
 "nbformat_minor": 5
}
