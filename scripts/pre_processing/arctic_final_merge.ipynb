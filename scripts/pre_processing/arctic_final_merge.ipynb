{
 "cells": [
  {
   "cell_type": "markdown",
   "id": "62f43d7f",
   "metadata": {},
   "source": [
    "# Final Arctic Dataset Merge\n"
   ]
  },
  {
   "cell_type": "code",
   "execution_count": 1,
   "id": "67dc7dab",
   "metadata": {},
   "outputs": [],
   "source": [
    "import numpy as np\n",
    "import pandas as pd\n",
    "from pathlib import Path"
   ]
  },
  {
   "cell_type": "markdown",
   "id": "ed939843",
   "metadata": {},
   "source": [
    "We combine all processed Arctic climate variables — sea ice area, extent, thickness, and atmospheric/oceanic predictors — into one consolidated dataset for analysis and modeling.  \n",
    "\n",
    "This merged file will serve as the **master dataset** for correlation studies, forecasting models, and final visualizations."
   ]
  },
  {
   "cell_type": "code",
   "execution_count": null,
   "id": "64ccfe30",
   "metadata": {},
   "outputs": [],
   "source": [
    "# File Path\n",
    "BASE_DIR = Path().resolve().parents[1]\n",
    "\n",
    "arctic_predictors = BASE_DIR / \"data\" / \"pre_processed\" / \"era5_arctic_merged_clean.csv\"\n",
    "arctic_thickness = BASE_DIR / \"data\" / \"pre_processed\" / \"new_thickness_annual.csv\"\n",
    "arctic_area = BASE_DIR / \"data\" / \"pre_processed\" / \"arctic_sia_sie_monthly.csv\"\n",
    "\n",
    "output_path = BASE_DIR / \"data\" / \"final\" / \"final_arctic.csv\""
   ]
  },
  {
   "cell_type": "markdown",
   "id": "a8ebffa8",
   "metadata": {},
   "source": [
    "### Load Processed Components\n",
    "Import the pre-processed CSV files (sea ice, thickness, predictors, etc.) and check consistency of time coverage (1978–2023) before merging."
   ]
  },
  {
   "cell_type": "code",
   "execution_count": 3,
   "id": "662998d8",
   "metadata": {},
   "outputs": [],
   "source": [
    "# Read datasets\n",
    "predictors_df = pd.read_csv(arctic_predictors)\n",
    "thickness_df = pd.read_csv(arctic_thickness)\n",
    "area_df = pd.read_csv(arctic_area)\n",
    "\n",
    "# Ensure year and month are integers\n",
    "for df in [predictors_df, thickness_df, area_df]:\n",
    "    df[\"year\"] = df[\"year\"].astype(int)\n",
    "    df[\"month\"] = df[\"month\"].astype(int)"
   ]
  },
  {
   "cell_type": "markdown",
   "id": "d76f0fc6",
   "metadata": {},
   "source": [
    "### Merge and Export Final Dataset\n",
    "Join all Arctic variables by **year** and **month** into a single DataFrame.  \n",
    "Save as `final_arctic.csv` for downstream use in correlation heatmaps, feature analysis, and ML-based forecasting."
   ]
  },
  {
   "cell_type": "code",
   "execution_count": null,
   "id": "38405ea1",
   "metadata": {},
   "outputs": [],
   "source": [
    "# Step 1: Filter thickness data to 1978–2023\n",
    "thickness_df = thickness_df[(thickness_df[\"year\"] >= 1978) & (thickness_df[\"year\"] <= 2023)]\n",
    "\n",
    "# Step 2: Left join thickness with area on year & month\n",
    "area_thickness_df = pd.merge(\n",
    "    area_df,\n",
    "    thickness_df,\n",
    "    on=[\"year\", \"month\"],\n",
    "    how=\"left\"\n",
    ")\n",
    "\n",
    "# Step 3: Inner join with predictors on year & month\n",
    "final_df = pd.merge(\n",
    "    area_thickness_df,\n",
    "    predictors_df,\n",
    "    on=[\"year\", \"month\"],\n",
    "    how=\"inner\"\n",
    ")"
   ]
  },
  {
   "cell_type": "code",
   "execution_count": 5,
   "id": "b5500573",
   "metadata": {},
   "outputs": [
    {
     "name": "stdout",
     "output_type": "stream",
     "text": [
      "Final merged dataset saved to: D:\\Msc Data and Computational Science\\Summer\\Projects in Maths Modelling\\Github\\project-acm40960-ss\\data\\pre_processed\\final_arctic.csv\n",
      "   year  month  sia_million_km2  sie_million_km2    thick_m          cdir  \\\n",
      "0  1978     10         9.524144        10.153839        NaN  793575.44000   \n",
      "1  1978     11        10.811478        11.506771        NaN   42043.16400   \n",
      "2  1978     12        12.834232        13.668629        NaN     137.44655   \n",
      "3  1979      1        14.615531        15.543609  3973.8833   10864.35900   \n",
      "4  1979      2        15.492461        16.448393  3973.9478  352633.30000   \n",
      "\n",
      "             uvb       slhf        sf        t2m        sst      istl1  \\\n",
      "0  110108.530000 -923622.06  0.000985  260.21402  272.12772  263.60452   \n",
      "1    8703.622000 -821054.06  0.000860  253.88397  271.93120  259.63235   \n",
      "2      67.879295 -621884.70  0.000541  249.05974  271.80540  255.64603   \n",
      "3    2573.583700 -675217.70  0.000611  248.04901  271.73035  255.39026   \n",
      "4   55168.465000 -591981.30  0.000524  243.43956  271.68857  251.93723   \n",
      "\n",
      "       istl2      istl3      istl4        skt      ishf       tcc        tsn  \n",
      "0  264.34616  266.69710  269.37375  260.07330 -0.155192  0.915179  260.42014  \n",
      "1  260.67410  264.07034  268.18150  253.54462  2.577360  0.907979  254.03398  \n",
      "2  257.04474  261.59253  267.09158  248.35342  5.046774  0.849836  248.96458  \n",
      "3  256.74045  261.16708  266.83243  247.46416  5.996357  0.878834  247.96863  \n",
      "4  253.53380  258.88455  265.81630  242.81813  4.601987  0.891397  243.30849  \n"
     ]
    }
   ],
   "source": [
    "# Step 4: Save final merged dataset\n",
    "final_df.to_csv(output_path, index=False)\n",
    "\n",
    "print(f\"Final merged dataset saved to: {output_path}\")\n",
    "print(final_df.head())"
   ]
  }
 ],
 "metadata": {
  "kernelspec": {
   "display_name": "Python 3",
   "language": "python",
   "name": "python3"
  },
  "language_info": {
   "codemirror_mode": {
    "name": "ipython",
    "version": 3
   },
   "file_extension": ".py",
   "mimetype": "text/x-python",
   "name": "python",
   "nbconvert_exporter": "python",
   "pygments_lexer": "ipython3",
   "version": "3.10.0"
  }
 },
 "nbformat": 4,
 "nbformat_minor": 5
}
