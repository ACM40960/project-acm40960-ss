{
 "cells": [
  {
   "cell_type": "markdown",
   "id": "77c7ce3f",
   "metadata": {},
   "source": [
    "# Final Data Integration (Carbon dioxide, Energy, Temperature)\n",
    "\n",
    "We merge **CO₂ emissions**, **energy consumption**, and **global temperature** into one consolidated dataset."
   ]
  },
  {
   "cell_type": "code",
   "execution_count": 1,
   "id": "3489bb68",
   "metadata": {},
   "outputs": [],
   "source": [
    "# Import the libraries\n",
    "import pandas as pd\n",
    "from pathlib import Path"
   ]
  },
  {
   "cell_type": "code",
   "execution_count": 2,
   "id": "1fd74dda",
   "metadata": {},
   "outputs": [],
   "source": [
    "# File Paths\n",
    "BASE_DIR = Path().resolve().parents[1]\n",
    "\n",
    "ei_FILE   = BASE_DIR / \"data\" / \"pre_processed\" / \"ei_energy_supply.csv\"\n",
    "co2_FILE  = BASE_DIR / \"data\" / \"pre_processed\" / \"Final_CO2_Emissions_Dataset.csv\"\n",
    "Temp_FILE  = BASE_DIR / \"data\" / \"pre_processed\" / \"global_temp_data.csv\"\n",
    "\n",
    "OUTPUT_PATH = BASE_DIR / \"data\" / \"final\" / \"whole_data_merged.csv\""
   ]
  },
  {
   "cell_type": "code",
   "execution_count": 3,
   "id": "50107721",
   "metadata": {},
   "outputs": [],
   "source": [
    "# Load the datasets\n",
    "\n",
    "energy_df = pd.read_csv(ei_FILE)\n",
    "co2_df = pd.read_csv(co2_FILE)\n",
    "temp_df = pd.read_csv(Temp_FILE)  "
   ]
  },
  {
   "cell_type": "code",
   "execution_count": 4,
   "id": "bd0d8828",
   "metadata": {},
   "outputs": [
    {
     "name": "stdout",
     "output_type": "stream",
     "text": [
      "0       False\n",
      "1       False\n",
      "2       False\n",
      "3       False\n",
      "4       False\n",
      "        ...  \n",
      "4522     True\n",
      "4523     True\n",
      "4524     True\n",
      "4525     True\n",
      "4526     True\n",
      "Name: country, Length: 4527, dtype: bool\n"
     ]
    }
   ],
   "source": [
    "print(energy_df[\"country\"]=='World')"
   ]
  },
  {
   "cell_type": "code",
   "execution_count": 5,
   "id": "d8eeed5e",
   "metadata": {},
   "outputs": [],
   "source": [
    "co2_df[\"country\"] = co2_df[\"country\"].str.upper().str.strip()\n",
    "energy_df[\"country\"] = energy_df[\"country\"].str.upper().str.strip()\n",
    "co2_df[\"year\"] = co2_df[\"year\"].astype(int)\n",
    "\n",
    "# Merge CO₂ + Energy using OUTER JOIN\n",
    "\n",
    "merged_ce = pd.merge(co2_df, energy_df, on=[\"country\", \"year\"], how=\"outer\")"
   ]
  },
  {
   "cell_type": "code",
   "execution_count": 6,
   "id": "260e40a0",
   "metadata": {},
   "outputs": [
    {
     "name": "stdout",
     "output_type": "stream",
     "text": [
      " Final dataset saved with shape: (61940, 16)\n"
     ]
    }
   ],
   "source": [
    "# CO₂ + Energy\n",
    "merged_ce.to_csv(BASE_DIR / \"data\" / \"pre_processed\" / \"co2&energy_merged.csv\", index=False)\n",
    "\n",
    "print(\" Final dataset saved with shape:\", merged_ce.shape)"
   ]
  },
  {
   "cell_type": "code",
   "execution_count": 7,
   "id": "c56e535c",
   "metadata": {},
   "outputs": [],
   "source": [
    "# Filtering 'World' entry from CO₂+Energy & Merge with Global \n",
    "# Temperature using LEFT JOIN\n",
    "\n",
    "world_rows = merged_ce[merged_ce[\"country\"].str.upper() == \"WORLD\"]\n",
    "world_merged_temp = pd.merge(world_rows, temp_df, on=\"year\", how=\"left\")\n",
    "\n",
    "# Keep non-World rows as-is\n",
    "non_world_rows = merged_ce[merged_ce[\"country\"].str.upper() != \"WORLD\"]\n",
    "\n",
    "# Combine both\n",
    "final_global_merged = pd.concat([non_world_rows, world_merged_temp], ignore_index=True)"
   ]
  },
  {
   "cell_type": "code",
   "execution_count": 8,
   "id": "1408af17",
   "metadata": {},
   "outputs": [
    {
     "name": "stdout",
     "output_type": "stream",
     "text": [
      "Final dataset saved with shape: (61940, 19)\n"
     ]
    }
   ],
   "source": [
    "# Save the result\n",
    "\n",
    "final_global_merged.to_csv(OUTPUT_PATH, index=False)\n",
    "\n",
    "print(\"Final dataset saved with shape:\", final_global_merged.shape)\n"
   ]
  }
 ],
 "metadata": {
  "kernelspec": {
   "display_name": "Python 3",
   "language": "python",
   "name": "python3"
  },
  "language_info": {
   "codemirror_mode": {
    "name": "ipython",
    "version": 3
   },
   "file_extension": ".py",
   "mimetype": "text/x-python",
   "name": "python",
   "nbconvert_exporter": "python",
   "pygments_lexer": "ipython3",
   "version": "3.10.0"
  }
 },
 "nbformat": 4,
 "nbformat_minor": 5
}
