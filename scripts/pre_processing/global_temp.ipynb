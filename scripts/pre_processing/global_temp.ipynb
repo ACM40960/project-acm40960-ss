{
 "cells": [
  {
   "cell_type": "code",
   "execution_count": 12,
   "id": "2d158804",
   "metadata": {},
   "outputs": [],
   "source": [
    "# Load libraries\n",
    "\n",
    "import pandas as pd\n",
    "from pathlib import Path"
   ]
  },
  {
   "cell_type": "code",
   "execution_count": 22,
   "id": "a870d769",
   "metadata": {},
   "outputs": [],
   "source": [
    "BASE_DIR = Path().resolve().parents[1]\n",
    "\n",
    "# Load global temperature\n",
    "temp_path = BASE_DIR / \"data\" / \"raw\" / \"Global_TAVG_annual.txt\"\n",
    "\n",
    "BASELINE_TEMP_C = 14.13"
   ]
  },
  {
   "cell_type": "code",
   "execution_count": 24,
   "id": "211a306e",
   "metadata": {},
   "outputs": [
    {
     "name": "stderr",
     "output_type": "stream",
     "text": [
      "C:\\Users\\Sathvik\\AppData\\Local\\Temp\\ipykernel_16228\\960267576.py:1: FutureWarning: The 'delim_whitespace' keyword in pd.read_csv is deprecated and will be removed in a future version. Use ``sep='\\s+'`` instead\n",
      "  df_temp = pd.read_csv(\n"
     ]
    }
   ],
   "source": [
    "df_temp = pd.read_csv(\n",
    "    temp_path,\n",
    "    delim_whitespace=True,\n",
    "    comment=\"%\",\n",
    "    header=None,\n",
    "    names=[\"year\", \"anomaly_c\", \"uncertainty_c\", \"five_year_avg\", \"five_year_unc\"]\n",
    ")"
   ]
  },
  {
   "cell_type": "code",
   "execution_count": 25,
   "id": "49d99b14",
   "metadata": {},
   "outputs": [],
   "source": [
    "# Calculate absolute temperature\n",
    "########################\n",
    "\n",
    "# \"Absolute temp = Anomaly + 1951–1980 mean (14.13°C)\"\n",
    "########################\n",
    "\n",
    "df_temp[\"global_temp_c\"] = df_temp[\"anomaly_c\"] + BASELINE_TEMP_C"
   ]
  },
  {
   "cell_type": "code",
   "execution_count": null,
   "id": "6f6ca9d9",
   "metadata": {},
   "outputs": [],
   "source": [
    "# Keep only necessary columns\n",
    "df_temp = df_temp[[\"year\", \"anomaly_c\",\"uncertainty_c\", \"global_temp_c\"]]\n",
    "\n",
    "# Save the final dataset\n",
    "output_path = BASE_DIR / \"data\" / \"pre_processed\" / \"global_temp_data.csv\"\n",
    "df_temp.to_csv(output_path, index=False)"
   ]
  },
  {
   "cell_type": "code",
   "execution_count": 27,
   "id": "6c011049",
   "metadata": {},
   "outputs": [
    {
     "name": "stdout",
     "output_type": "stream",
     "text": [
      "Global Temperature dataset shape: (175, 4)\n",
      "   year  global_temp_c\n",
      "0  1850         13.764\n",
      "1  1851         13.791\n",
      "2  1852         13.851\n",
      "3  1853         13.945\n",
      "4  1854         13.878\n"
     ]
    }
   ],
   "source": [
    "print(\"Global Temperature dataset shape:\", df_temp.shape)\n",
    "print(df_temp[[\"year\", \"global_temp_c\"]].drop_duplicates().head())"
   ]
  }
 ],
 "metadata": {
  "kernelspec": {
   "display_name": "Python 3",
   "language": "python",
   "name": "python3"
  },
  "language_info": {
   "codemirror_mode": {
    "name": "ipython",
    "version": 3
   },
   "file_extension": ".py",
   "mimetype": "text/x-python",
   "name": "python",
   "nbconvert_exporter": "python",
   "pygments_lexer": "ipython3",
   "version": "3.10.0"
  }
 },
 "nbformat": 4,
 "nbformat_minor": 5
}
