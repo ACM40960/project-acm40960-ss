{
 "cells": [
  {
   "cell_type": "code",
   "execution_count": null,
   "id": "67dc7dab",
   "metadata": {},
   "outputs": [],
   "source": [
    "import numpy as np\n",
    "import pandas as pd\n",
    "from pathlib import Path"
   ]
  },
  {
   "cell_type": "code",
   "execution_count": 2,
   "id": "64ccfe30",
   "metadata": {},
   "outputs": [],
   "source": [
    "# File Path\n",
    "BASE_DIR = Path().resolve().parents[1]\n",
    "\n",
    "arctic_predictors = BASE_DIR / \"data\" / \"processed\" / \"era5_arctic_merged_clean.csv\"\n",
    "arctic_thickness = BASE_DIR / \"data\" / \"processed\" / \"arctic_ice_thickness_annual.csv\"\n",
    "arctic_area = BASE_DIR / \"data\" / \"processed\" / \"arctic_sia_sie_monthly.csv\"\n",
    "\n",
    "output_path = BASE_DIR / \"data\" / \"processed\" / \"final_arctic.csv\""
   ]
  },
  {
   "cell_type": "code",
   "execution_count": 4,
   "id": "662998d8",
   "metadata": {},
   "outputs": [],
   "source": [
    "# Read datasets\n",
    "predictors_df = pd.read_csv(arctic_predictors)\n",
    "thickness_df = pd.read_csv(arctic_thickness)\n",
    "area_df = pd.read_csv(arctic_area)\n",
    "\n",
    "# Ensure year and month are integers\n",
    "for df in [predictors_df, thickness_df, area_df]:\n",
    "    df[\"year\"] = df[\"year\"].astype(int)\n",
    "    df[\"month\"] = df[\"month\"].astype(int)"
   ]
  },
  {
   "cell_type": "code",
   "execution_count": 5,
   "id": "38405ea1",
   "metadata": {},
   "outputs": [],
   "source": [
    "# Step 1: Filter thickness data to 1978–2023\n",
    "thickness_df = thickness_df[(thickness_df[\"year\"] >= 1978) & (thickness_df[\"year\"] <= 2023)]\n",
    "\n",
    "# Step 2: Left join thickness with area on year & month\n",
    "area_thickness_df = pd.merge(\n",
    "    area_df,\n",
    "    thickness_df,\n",
    "    on=[\"year\", \"month\"],\n",
    "    how=\"left\"\n",
    ")\n",
    "\n",
    "# Step 3: Inner join with predictors on year & month\n",
    "final_df = pd.merge(\n",
    "    area_thickness_df,\n",
    "    predictors_df,\n",
    "    on=[\"year\", \"month\"],\n",
    "    how=\"inner\"\n",
    ")\n"
   ]
  },
  {
   "cell_type": "code",
   "execution_count": 6,
   "id": "b5500573",
   "metadata": {},
   "outputs": [
    {
     "name": "stdout",
     "output_type": "stream",
     "text": [
      "Final merged dataset saved to: D:\\Desktopped\\UCD\\Summer\\Summer project\\Project_ACM\\data\\processed\\final_arctic.csv\n",
      "   year  month  sia_million_km2  sie_million_km2  thick_m       cdir  \\\n",
      "0  1978     10         9.524144        10.153839     0.35  793575.44   \n",
      "1  1978     10         9.524144        10.153839     0.52  793575.44   \n",
      "2  1978     10         9.524144        10.153839     0.44  793575.44   \n",
      "3  1978     10         9.524144        10.153839     0.40  793575.44   \n",
      "4  1978     10         9.524144        10.153839     0.45  793575.44   \n",
      "\n",
      "         uvb       slhf        sf        t2m        sst      istl1      istl2  \\\n",
      "0  110108.53 -923622.06  0.000985  260.21402  272.12772  263.60452  264.34616   \n",
      "1  110108.53 -923622.06  0.000985  260.21402  272.12772  263.60452  264.34616   \n",
      "2  110108.53 -923622.06  0.000985  260.21402  272.12772  263.60452  264.34616   \n",
      "3  110108.53 -923622.06  0.000985  260.21402  272.12772  263.60452  264.34616   \n",
      "4  110108.53 -923622.06  0.000985  260.21402  272.12772  263.60452  264.34616   \n",
      "\n",
      "      istl3      istl4       skt      ishf       tcc        tsn  \n",
      "0  266.6971  269.37375  260.0733 -0.155192  0.915179  260.42014  \n",
      "1  266.6971  269.37375  260.0733 -0.155192  0.915179  260.42014  \n",
      "2  266.6971  269.37375  260.0733 -0.155192  0.915179  260.42014  \n",
      "3  266.6971  269.37375  260.0733 -0.155192  0.915179  260.42014  \n",
      "4  266.6971  269.37375  260.0733 -0.155192  0.915179  260.42014  \n"
     ]
    }
   ],
   "source": [
    "# Step 4: Save final merged dataset\n",
    "final_df.to_csv(output_path, index=False)\n",
    "\n",
    "print(f\"Final merged dataset saved to: {output_path}\")\n",
    "print(final_df.head())"
   ]
  }
 ],
 "metadata": {
  "kernelspec": {
   "display_name": "Python 3",
   "language": "python",
   "name": "python3"
  },
  "language_info": {
   "codemirror_mode": {
    "name": "ipython",
    "version": 3
   },
   "file_extension": ".py",
   "mimetype": "text/x-python",
   "name": "python",
   "nbconvert_exporter": "python",
   "pygments_lexer": "ipython3",
   "version": "3.10.0"
  }
 },
 "nbformat": 4,
 "nbformat_minor": 5
}
