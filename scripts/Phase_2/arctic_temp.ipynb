{
 "cells": [
  {
   "cell_type": "code",
   "execution_count": 22,
   "id": "55b2e129",
   "metadata": {},
   "outputs": [],
   "source": [
    "import xarray as xr\n",
    "import numpy as np\n",
    "import pandas as pd\n",
    "from pathlib import Path"
   ]
  },
  {
   "cell_type": "code",
   "execution_count": null,
   "id": "83f56e7e",
   "metadata": {},
   "outputs": [
    {
     "name": "stdout",
     "output_type": "stream",
     "text": [
      "<xarray.Dataset> Size: 9GB\n",
      "Dimensions:       (longitude: 1440, latitude: 720, time: 2106, month_number: 12)\n",
      "Coordinates:\n",
      "  * longitude     (longitude) float32 6kB -179.9 -179.6 -179.4 ... 179.6 179.9\n",
      "  * latitude      (latitude) float32 3kB -89.88 -89.62 -89.38 ... 89.62 89.88\n",
      "  * time          (time) float64 17kB 1.85e+03 1.85e+03 ... 2.025e+03 2.025e+03\n",
      "Dimensions without coordinates: month_number\n",
      "Data variables:\n",
      "    land_mask     (latitude, longitude) float64 8MB ...\n",
      "    areal_weight  (latitude, longitude) float64 8MB ...\n",
      "    temperature   (time, latitude, longitude) float32 9GB ...\n",
      "    climatology   (month_number, latitude, longitude) float32 50MB ...\n",
      "Attributes:\n",
      "    Conventions:                 Berkeley Earth Internal Convention (based on...\n",
      "    title:                       Berkeley Earth Surface Temperature Anomaly F...\n",
      "    file_creation:               18-Jul-2025 01:40:07\n",
      "    institution:                 Berkeley Earth\n",
      "    land_source_analysis_date:   04-Jul-2025 03:34:08\n",
      "    ocean_source_analysis_date:  19-Jun-2025 10:47:13\n",
      "    comment:                     This file contains surface temperature anoma...\n"
     ]
    }
   ],
   "source": [
    "# File Path\n",
    "BASE_DIR = Path().resolve().parents[1]\n",
    "\n",
    "# Load Arctic gridded temperature NetCDF file\n",
    "arctic_path = BASE_DIR / \"data\" / \"raw\" / \"Global_TAVG_Gridded_0p25deg.nc\"\n",
    "ds = xr.open_dataset(arctic_path, decode_times= True)\n",
    "print(ds)"
   ]
  },
  {
   "cell_type": "code",
   "execution_count": 26,
   "id": "2b54be34",
   "metadata": {},
   "outputs": [],
   "source": [
    "# Extract temperature, latitude, time\n",
    "temperature = ds[\"temperature\"]\n",
    "latitudes = ds[\"latitude\"]\n",
    "times = ds[\"time\"].values\n",
    "\n",
    "# Step 1: Filter for Arctic region (latitude >= 66.5°N)\n",
    "arctic_temp = temperature.sel(latitude=latitudes[latitudes >= 66.5])\n",
    "\n",
    "years = times.astype(int)\n",
    "arctic_temp.coords[\"year\"] = (\"time\", years)\n",
    "\n",
    "# Step 3: Compute annual mean Arctic anomaly\n",
    "arctic_df = (\n",
    "    arctic_temp\n",
    "    .groupby(\"year\")\n",
    "    .mean(dim=[\"time\",\"latitude\", \"longitude\"], skipna=True)\n",
    "    .to_dataframe()\n",
    "    .reset_index()[[\"year\", \"temperature\"]]\n",
    "    .rename(columns={\"temperature\": \"arctic_anomaly_c\"})\n",
    ")\n"
   ]
  },
  {
   "cell_type": "code",
   "execution_count": 29,
   "id": "9ac7b696",
   "metadata": {},
   "outputs": [
    {
     "name": "stdout",
     "output_type": "stream",
     "text": [
      "✅ Arctic dataset saved: D:\\Desktopped\\UCD\\Summer\\Summer project\\Project_ACM\\data\\processed\\Arctic_Dataset.csv\n",
      "📈 Shape: (176, 2)\n",
      "   year  arctic_anomaly_c\n",
      "0  1850         -0.556655\n",
      "1  1851          0.362077\n",
      "2  1852          0.279491\n",
      "3  1853         -0.221799\n",
      "4  1854         -0.203260\n"
     ]
    }
   ],
   "source": [
    "OUTPUT_PATH = BASE_DIR / \"data\" / \"processed\" / \"Arctic_Dataset.csv\"\n",
    "\n",
    "arctic_df.to_csv(OUTPUT_PATH, index=False)\n",
    "\n",
    "print(\"✅ Arctic dataset saved:\", OUTPUT_PATH)\n",
    "print(\"📈 Shape:\", arctic_df.shape)\n",
    "print(arctic_df.head())\n",
    "\n"
   ]
  }
 ],
 "metadata": {
  "kernelspec": {
   "display_name": "Python 3",
   "language": "python",
   "name": "python3"
  },
  "language_info": {
   "codemirror_mode": {
    "name": "ipython",
    "version": 3
   },
   "file_extension": ".py",
   "mimetype": "text/x-python",
   "name": "python",
   "nbconvert_exporter": "python",
   "pygments_lexer": "ipython3",
   "version": "3.10.0"
  }
 },
 "nbformat": 4,
 "nbformat_minor": 5
}
