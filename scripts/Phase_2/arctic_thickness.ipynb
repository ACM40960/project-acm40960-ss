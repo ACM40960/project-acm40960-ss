{
 "cells": [
  {
   "cell_type": "code",
   "execution_count": 1,
   "id": "55b2e129",
   "metadata": {},
   "outputs": [],
   "source": [
    "import xarray as xr\n",
    "import numpy as np\n",
    "import pandas as pd\n",
    "from pathlib import Path"
   ]
  },
  {
   "cell_type": "code",
   "execution_count": 2,
   "id": "83f56e7e",
   "metadata": {},
   "outputs": [
    {
     "name": "stdout",
     "output_type": "stream",
     "text": [
      "<xarray.Dataset> Size: 77MB\n",
      "Dimensions:         (time: 254102, Mean Max Min Sigma: 4)\n",
      "Dimensions without coordinates: time, Mean Max Min Sigma\n",
      "Data variables: (12/26)\n",
      "    SOURCE          (time) <U12 12MB ...\n",
      "    PLATFORM        (time) <U11 11MB ...\n",
      "    INDEX           (time) int32 1MB ...\n",
      "    YEAR            (time) int64 2MB ...\n",
      "    MEAN_YDAY       (time) float32 1MB ...\n",
      "    MIN_YDAY        (time) float32 1MB ...\n",
      "    ...              ...\n",
      "    UNCERT          (time, Mean Max Min Sigma) float32 4MB ...\n",
      "    DRAFT           (time, Mean Max Min Sigma) float32 4MB ...\n",
      "    THICK           (time, Mean Max Min Sigma) float32 4MB ...\n",
      "    THICK_ICE_SNOW  (time, Mean Max Min Sigma) float32 4MB ...\n",
      "    FREEBOARD       (time, Mean Max Min Sigma) float32 4MB ...\n",
      "    FDATE           (time) float32 1MB ...\n",
      "Attributes:\n",
      "    Data Set:            Unified Sea Ice Thickness Data Record\n",
      "    Producers:           Axel Schweiger, Polar Science Center, University of ...\n",
      "    Info:                psc.apl.uw.edu/sea_ice_cdr\n",
      "    Version:             20190920_V2.0\n",
      "    Version for Source:  ['      AIR-EM->20150107', '      AIR-EM->20160513',...\n"
     ]
    }
   ],
   "source": [
    "# File Path\n",
    "BASE_DIR = Path().resolve().parents[1]\n",
    "\n",
    "# Load Arctic gridded temperature NetCDF file\n",
    "arctic_path = BASE_DIR / \"data\" / \"raw\" / \"uThickCDR_summaries_current_V2.0.nc\"\n",
    "ds = xr.open_dataset(arctic_path, decode_times= True)\n",
    "print(ds)"
   ]
  },
  {
   "cell_type": "code",
   "execution_count": 11,
   "id": "2b54be34",
   "metadata": {},
   "outputs": [
    {
     "name": "stdout",
     "output_type": "stream",
     "text": [
      "   year   thick_m  draft_m  freeboard_m  icecon\n",
      "0  1947  0.535714      NaN          NaN     NaN\n",
      "1  1948  1.258095      NaN          NaN     NaN\n",
      "2  1949  1.152381      NaN          NaN     NaN\n",
      "3  1950  1.386000      NaN          NaN     NaN\n",
      "4  1951  1.201667      NaN          NaN     NaN\n"
     ]
    }
   ],
   "source": [
    "# 2. Extract relevant variables\n",
    "# 'THICK' has shape (time, Mean Max Min Sigma), so we take [:, 0] for Mean\n",
    "thick_mean = ds[\"THICK\"].isel(**{\"Mean Max Min Sigma\": 0})\n",
    "draft_mean = ds[\"DRAFT\"].isel(**{\"Mean Max Min Sigma\": 0})\n",
    "freeboard_mean = ds[\"FREEBOARD\"].isel(**{\"Mean Max Min Sigma\": 0})\n",
    "icecon_mean = ds[\"ICECON\"].isel(**{\"Mean Max Min Sigma\": 0})\n",
    "\n",
    "# 3. Create a DataFrame\n",
    "df = pd.DataFrame({\n",
    "    \"year\": ds[\"YEAR\"].values,\n",
    "    \"month\": ds[\"MONTH\"].values,\n",
    "    \"lat\": ds[\"LAT\"].values,\n",
    "    \"lon\": ds[\"LON\"].values,\n",
    "    \"thick_m\": thick_mean.values,\n",
    "    \"draft_m\": draft_mean.values,\n",
    "    \"freeboard_m\": freeboard_mean.values,\n",
    "    \"icecon\": icecon_mean.values\n",
    "})\n",
    "\n",
    "# 4. Filter for Arctic latitudes (>= 65°N) and remove missing values\n",
    "df = df[(df[\"lat\"] >= 65) & (~df[\"thick_m\"].isna())]\n",
    "\n",
    "# 5. Annual mean values for all four variables\n",
    "annual_means = df.groupby(\"year\")[[\"thick_m\", \"draft_m\", \"freeboard_m\", \"icecon\"]].mean().reset_index()\n",
    "\n",
    "# 6. Save for later use\n",
    "annual_means.to_csv(BASE_DIR / \"data\" / \"processed\" / \"arctic_ice_thickness_annual.csv\", index=False)\n",
    "\n",
    "print(annual_means.head())"
   ]
  }
 ],
 "metadata": {
  "kernelspec": {
   "display_name": "Python 3",
   "language": "python",
   "name": "python3"
  },
  "language_info": {
   "codemirror_mode": {
    "name": "ipython",
    "version": 3
   },
   "file_extension": ".py",
   "mimetype": "text/x-python",
   "name": "python",
   "nbconvert_exporter": "python",
   "pygments_lexer": "ipython3",
   "version": "3.10.0"
  }
 },
 "nbformat": 4,
 "nbformat_minor": 5
}
