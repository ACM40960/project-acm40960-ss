import pandas as pd

# -----------------------------------------------
# Load the datasets
# -----------------------------------------------
energy_df = pd.read_csv("data/processed/ei_energy_supply.csv")
co2_df = pd.read_csv("data/processed/Final_CO2_Emissions_Dataset.csv")
temp_df = pd.read_csv("data/processed/global_temp_data.csv")  # Has 'year', 'anomaly_c', 'global_temp_c'

# -----------------------------------------------
# 1️⃣ Merge CO₂ + Energy using OUTER JOIN
# -----------------------------------------------
merged_ce = pd.merge(co2_df, energy_df, on=["country", "year"], how="outer")

# -----------------------------------------------
# 2️⃣ Filter to only 'World' entry from CO₂+Energy
# -----------------------------------------------
merged_world = merged_ce[merged_ce["country"].str.upper() == "WORLD"]

# -----------------------------------------------
# 3️⃣ Merge with Global Temperature using LEFT JOIN
# -----------------------------------------------
final_global_merged = pd.merge(merged_world, temp_df, on="year", how="left")

# -----------------------------------------------
# Save the result
# -----------------------------------------------
final_global_merged.to_csv("data/processed/global_co2_energy_temp_merged.csv", index=False)

print("✅ Final dataset saved with shape:", final_global_merged.shape)
